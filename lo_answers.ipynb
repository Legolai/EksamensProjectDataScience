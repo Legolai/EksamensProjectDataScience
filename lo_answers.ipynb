{
 "cells": [
  {
   "cell_type": "markdown",
   "metadata": {},
   "source": [
    "## Week 1\n",
    "\n",
    "1. Python data types\n",
    "2. Basic operators\n",
    "3. String methods\n",
    "4. Lists (indexing, slicing, copying, comprehensions)\n",
    "5. Dicts (setDefault, nested dicts, comprehensions)\n",
    "6. Sets (When to use them)\n",
    "7. Tuples (When to use them)\n",
    "8. Sorting\n",
    "9. Multiple for-loops in list comprehensions.\n",
    "10. Control structures: Loops\n",
    "11. Control structures: Conditional Statements.\n",
    "12. control structures: [Switch statements](https://www.freecodecamp.org/news/python-switch-statement-switch-case-example/)"
   ]
  }
 ],
 "metadata": {
  "language_info": {
   "name": "python"
  },
  "orig_nbformat": 4
 },
 "nbformat": 4,
 "nbformat_minor": 2
}
